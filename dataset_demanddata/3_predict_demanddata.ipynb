{
 "cells": [
  {
   "cell_type": "markdown",
   "id": "bc4bc5c4",
   "metadata": {},
   "source": [
    "worked on by:"
   ]
  },
  {
   "cell_type": "markdown",
   "id": "ad9aa7ff",
   "metadata": {},
   "source": [
    "Building models\n",
    "\n",
    "The previous part ended with a single notebook (per dataset) that would prepare your data for predicting. Next is building a couple of models and actually predicting something.\n",
    "\n",
    "Which models will you need?\n",
    "\n",
    "    A quick first model. This won't be a good one, but with this you can start working on the deployment (next step) while still tuning the model.\n",
    "    Use PyCaret (or another automated ML comparison) on both datasets.\n",
    "    Create and tune a model on both your datasets. Explain why you choose this particular model and perhaps train a second model to validate this choice.\n",
    "    Create and tune a model on AWS.\n",
    "\n",
    "Make sure to keep all the metrics on the models you made and compare these to show which model performed best."
   ]
  },
  {
   "cell_type": "markdown",
   "id": "c3da45b6",
   "metadata": {},
   "source": [
    "# Predict"
   ]
  },
  {
   "cell_type": "code",
   "execution_count": null,
   "id": "036fd407",
   "metadata": {
    "vscode": {
     "languageId": "plaintext"
    }
   },
   "outputs": [],
   "source": []
  }
 ],
 "metadata": {
  "language_info": {
   "name": "python"
  }
 },
 "nbformat": 4,
 "nbformat_minor": 5
}
