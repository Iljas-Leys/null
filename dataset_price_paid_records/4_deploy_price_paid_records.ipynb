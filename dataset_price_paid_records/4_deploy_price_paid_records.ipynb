{
 "cells": [
  {
   "cell_type": "markdown",
   "id": "1dc64f7b",
   "metadata": {},
   "source": [
    "Worked on by: "
   ]
  },
  {
   "cell_type": "markdown",
   "id": "fc3d3489",
   "metadata": {},
   "source": [
    "Deploy\n",
    "\n",
    "You also need to deploy your models. This part will only be covered in class minimally as it's the sort of thing any AI can help you with. If you have questions don't hesitate to ask though.\n",
    "\n",
    "You need:\n",
    "A frontend\n",
    "\n",
    "Streamlit will do, but you could also build a custom webpage that listens to an API.\n",
    "A backend\n",
    "\n",
    "Some code that uses the model you made earlier and makes predictions based on some user input. Don't shy away from languages you've never used before (go, rust, julia, ...)\n",
    "A pipeline\n",
    "\n",
    "In a company you'd have the webdepartment responsible for the front- and backend and the ML-department building a model. When the webdepartment is ready the ML department will keep on building better models based on new data. Make sure the ML-department has an automated pipeline that updates the model everytime new code is pushed to github.\n",
    "Hosting\n",
    "\n",
    "You'll need to host this code somewhere. The frontend normally won't be a problem but the backend may prove to be trickier. You can host it at home on a raspberry Pi or a virtual machine and you don't need a fancy URI. What you do need is a working model of a setup that would bring this ML-model out of the PC of the developer and into the hands of the general public.\n",
    "\n",
    "Tip: look into Oracle. They have a pretty decent free tier."
   ]
  },
  {
   "cell_type": "markdown",
   "id": "55daf730",
   "metadata": {},
   "source": [
    "# Deploy"
   ]
  },
  {
   "cell_type": "code",
   "execution_count": null,
   "id": "27f3aed2",
   "metadata": {
    "vscode": {
     "languageId": "plaintext"
    }
   },
   "outputs": [],
   "source": []
  }
 ],
 "metadata": {
  "language_info": {
   "name": "python"
  }
 },
 "nbformat": 4,
 "nbformat_minor": 5
}
