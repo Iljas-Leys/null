{
 "cells": [
  {
   "cell_type": "markdown",
   "id": "76c787d0",
   "metadata": {},
   "source": [
    "Worked on by:"
   ]
  },
  {
   "cell_type": "markdown",
   "id": "d51d4aff",
   "metadata": {},
   "source": [
    "Clean the data\n",
    "\n",
    "This is very important on both datasets as you don't control the field-names yourself.\n",
    "\n",
    "    Rename columns to remove spaces from the name and make them all lowercase.\n",
    "    Look for the Na-values. Fix them if possible, using a couple of techniques before deciding which is best.\n",
    "    Look for the Outliers. Fix them if needed, using a couple of techniques before deciding which is best.\n",
    "    Look for (ordered) categoricals and label them as such.\n",
    "\n",
    "Exploratory data analysis\n",
    "\n",
    "    Show the outliers and try to explain them.\n",
    "    Draw some graphs about features you find interesting.\n",
    "    Look for correlations in your data.\n",
    "\n",
    "Repeat\n",
    "\n",
    "Both phases (cleaning and exploring) aren't two different steps in a process, but rather one large fuzzy mess of code. Something like:\n",
    "\n",
    "    I'll give all the Na's the mean value.\n",
    "    My graphs look strange, what is this peak doing at the mean?\n",
    "    Is there a correlation between the value that has a lot of Na's and another column?\n",
    "    Let's use the other column to fill in the Na's!\n",
    "\n",
    "In the upcoming steps of this project you'll put all the really good code together to make one final import, but for now poke the data and see what happens.\n",
    "Final loading and preparing\n",
    "\n",
    "Once you've cleaning and exploring and cleaning and exploring you'll lose track of the necessary steps and the optional steps. It's also possible that you did some cleaning that wasn't needed (e.g predict a field that should have been left empty).\n",
    "\n",
    "So end up your cleaning by creating a notebook that contains all the code to go from rough data to prepared data without any of the graphs.\n",
    "\n",
    "This has to be done for all both datasets."
   ]
  },
  {
   "cell_type": "markdown",
   "id": "e97a1a17",
   "metadata": {},
   "source": [
    "# Clean"
   ]
  },
  {
   "cell_type": "code",
   "execution_count": null,
   "id": "a9a5ec2d",
   "metadata": {
    "vscode": {
     "languageId": "plaintext"
    }
   },
   "outputs": [],
   "source": []
  }
 ],
 "metadata": {
  "language_info": {
   "name": "python"
  }
 },
 "nbformat": 4,
 "nbformat_minor": 5
}
