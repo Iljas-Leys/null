{
 "cells": [
  {
   "cell_type": "markdown",
   "id": "a3b75623",
   "metadata": {},
   "source": [
    "worked on by:"
   ]
  },
  {
   "cell_type": "markdown",
   "id": "1d01a060",
   "metadata": {},
   "source": [
    "Building models\n",
    "\n",
    "The previous part ended with a single notebook (per dataset) that would prepare your data for predicting. Next is building a couple of models and actually predicting something.\n",
    "\n",
    "Which models will you need?\n",
    "\n",
    "    A quick first model. This won't be a good one, but with this you can start working on the deployment (next step) while still tuning the model.\n",
    "    Use PyCaret (or another automated ML comparison) on both datasets.\n",
    "    Create and tune a model on both your datasets. Explain why you choose this particular model and perhaps train a second model to validate this choice.\n",
    "    Create and tune a model on AWS.\n",
    "\n",
    "Make sure to keep all the metrics on the models you made and compare these to show which model performed best."
   ]
  },
  {
   "cell_type": "markdown",
   "id": "3d566585",
   "metadata": {},
   "source": [
    "# Predict"
   ]
  },
  {
   "cell_type": "code",
   "execution_count": null,
   "id": "907f8fe0",
   "metadata": {
    "vscode": {
     "languageId": "plaintext"
    }
   },
   "outputs": [],
   "source": []
  }
 ],
 "metadata": {
  "language_info": {
   "name": "python"
  }
 },
 "nbformat": 4,
 "nbformat_minor": 5
}
